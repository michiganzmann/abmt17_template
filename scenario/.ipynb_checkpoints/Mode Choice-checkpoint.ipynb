{
 "cells": [
  {
   "cell_type": "code",
   "execution_count": 15,
   "metadata": {
    "collapsed": true,
    "deletable": true,
    "editable": true
   },
   "outputs": [],
   "source": [
    "import numpy as np\n",
    "import pandas as pd\n",
    "import gzip"
   ]
  },
  {
   "cell_type": "code",
   "execution_count": 16,
   "metadata": {
    "collapsed": false,
    "deletable": true,
    "editable": true
   },
   "outputs": [],
   "source": [
    "with gzip.open(\"../../astra1/alternatives.csv.gz\") as f:\n",
    "    df = pd.read_csv(f, delimiter = \";\")"
   ]
  },
  {
   "cell_type": "code",
   "execution_count": 17,
   "metadata": {
    "collapsed": true,
    "deletable": true,
    "editable": true
   },
   "outputs": [],
   "source": [
    "MODES = [\"car\", \"pt\", \"bike\", \"walk\"]"
   ]
  },
  {
   "cell_type": "code",
   "execution_count": 18,
   "metadata": {
    "collapsed": true,
    "deletable": true,
    "editable": true
   },
   "outputs": [],
   "source": [
    "df.loc[:,\"selected\"] = np.array(df[\"selected\"]).astype(np.int)"
   ]
  },
  {
   "cell_type": "code",
   "execution_count": 19,
   "metadata": {
    "collapsed": false,
    "deletable": true,
    "editable": true
   },
   "outputs": [],
   "source": [
    "alt_df = df.sort_values(\n",
    "    [\"person_id\", \"trip_index\", \"mode\", \"selected\"], \n",
    "    ascending = False\n",
    ").groupby(\n",
    "    [\"person_id\", \"trip_index\", \"mode\"]\n",
    ").first().reset_index()[[\"person_id\", \"trip_index\", \"mode\", \"vehicle_time\", \"vehicle_distance\", \"selected\"]]"
   ]
  },
  {
   "cell_type": "code",
   "execution_count": 20,
   "metadata": {
    "collapsed": false,
    "deletable": true,
    "editable": true
   },
   "outputs": [],
   "source": [
    "nosel_df = alt_df.groupby([\"person_id\", \"trip_index\"]).sum()\n",
    "alt_df = alt_df.set_index([\"person_id\", \"trip_index\"]).drop(nosel_df[nosel_df[\"selected\"] == 0.0].index).reset_index()"
   ]
  },
  {
   "cell_type": "code",
   "execution_count": 21,
   "metadata": {
    "collapsed": true
   },
   "outputs": [],
   "source": [
    "alt_df[\"vehicle_distance\"] /= 1e3"
   ]
  },
  {
   "cell_type": "code",
   "execution_count": 22,
   "metadata": {
    "collapsed": false,
    "deletable": true,
    "editable": true
   },
   "outputs": [],
   "source": [
    "alt_df[\"cost\"] = 0\n",
    "alt_df.loc[alt_df[\"mode\"] == \"car\", \"cost\"] = 0.27 * alt_df[alt_df[\"mode\"] == \"car\"][\"vehicle_distance\"]\n",
    "alt_df.loc[alt_df[\"mode\"] == \"pt\", \"cost\"] = 0.5 * alt_df[alt_df[\"mode\"] == \"pt\"][\"vehicle_distance\"]"
   ]
  },
  {
   "cell_type": "code",
   "execution_count": 23,
   "metadata": {
    "collapsed": false,
    "deletable": true,
    "editable": true
   },
   "outputs": [],
   "source": [
    "alt_df = pd.pivot_table(\n",
    "    alt_df, \n",
    "    index = [\"person_id\", \"trip_index\"], \n",
    "    columns = 'mode', \n",
    "    values = [\"vehicle_time\", \"vehicle_distance\", \"cost\", \"selected\"]\n",
    ").reset_index().dropna()"
   ]
  },
  {
   "cell_type": "code",
   "execution_count": 24,
   "metadata": {
    "collapsed": true,
    "deletable": true,
    "editable": true
   },
   "outputs": [],
   "source": [
    "alt_df.columns = ['_'.join(col).strip() if col[1] != \"\" else col[0] for col in alt_df.columns.values]\n",
    "alt_df.columns = [col.replace(\"vehicle_\", \"travel_\") for col in alt_df.columns.values]"
   ]
  },
  {
   "cell_type": "code",
   "execution_count": 25,
   "metadata": {
    "collapsed": false,
    "deletable": true,
    "editable": true
   },
   "outputs": [],
   "source": [
    "alt_df[\"choice_biogeme\"] = 0\n",
    "\n",
    "for i, mode in enumerate(MODES):\n",
    "    alt_df.loc[alt_df[\"selected_%s\" % mode] > 0.0, \"choice_biogeme\"] = i + 1"
   ]
  },
  {
   "cell_type": "code",
   "execution_count": 26,
   "metadata": {
    "collapsed": false,
    "deletable": true,
    "editable": true
   },
   "outputs": [],
   "source": [
    "alt_df = alt_df.drop([\"selected_%s\" % m for m in MODES], axis = 1)"
   ]
  },
  {
   "cell_type": "code",
   "execution_count": 27,
   "metadata": {
    "collapsed": true,
    "deletable": true,
    "editable": true
   },
   "outputs": [],
   "source": [
    "alt_df.set_index([\"person_id\", \"trip_index\"]).to_csv(\"/home/sebastian/temp/biotest/biogeme.csv\", sep = \"\\t\")"
   ]
  }
 ],
 "metadata": {
  "kernelspec": {
   "display_name": "Python 3",
   "language": "python",
   "name": "python3"
  },
  "language_info": {
   "codemirror_mode": {
    "name": "ipython",
    "version": 3
   },
   "file_extension": ".py",
   "mimetype": "text/x-python",
   "name": "python",
   "nbconvert_exporter": "python",
   "pygments_lexer": "ipython3",
   "version": "3.5.3"
  }
 },
 "nbformat": 4,
 "nbformat_minor": 2
}
